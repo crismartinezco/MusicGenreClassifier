{
 "cells": [
  {
   "cell_type": "code",
   "execution_count": 2,
   "id": "573e57bc-d8c0-4ca9-a872-9fada6f9144d",
   "metadata": {
    "ExecuteTime": {
     "end_time": "2025-01-14T09:17:32.988998200Z",
     "start_time": "2025-01-14T09:17:32.686170200Z"
    }
   },
   "outputs": [
    {
     "data": {
      "application/vnd.jupyter.widget-view+json": {
       "model_id": "bcc3e5990b164b2b8b80a501de48b1e7",
       "version_major": 2,
       "version_minor": 0
      },
      "text/plain": [
       "FileUpload(value={}, accept='audio/*', description='Upload')"
      ]
     },
     "metadata": {},
     "output_type": "display_data"
    },
    {
     "data": {
      "application/vnd.jupyter.widget-view+json": {
       "model_id": "ee4e76a57db548d8a6597d2a0d4b084e",
       "version_major": 2,
       "version_minor": 0
      },
      "text/plain": [
       "Output()"
      ]
     },
     "metadata": {},
     "output_type": "display_data"
    }
   ],
   "source": [
    "import io\n",
    "import requests\n",
    "import ipywidgets as widgets\n",
    "from IPython.display import display\n",
    "\n",
    "# Define widgets\n",
    "file_upload = widgets.FileUpload(\n",
    "    accept='audio/*',  # Accept audio files\n",
    "    multiple=False  # Do not allow multiple file uploads\n",
    ")\n",
    "\n",
    "button_mlp_overfitted = widgets.Button(description=\"Overfitted Multilayer Perceptron\")\n",
    "button_mlp_no_overfit = widgets.Button(description=\"Multilayer Perceptron (no overfit)\")\n",
    "button_cnn = widgets.Button(description=\"CNN\")\n",
    "\n",
    "output = widgets.Output()\n",
    "\n",
    "# Function to handle file upload\n",
    "uploaded_file_content = None  # Global variable to store the uploaded file content\n",
    "\n",
    "def on_upload_change(change):\n",
    "    global uploaded_file_content\n",
    "    with output:\n",
    "        output.clear_output()\n",
    "        if file_upload.value:\n",
    "            try:\n",
    "                uploaded_file = file_upload.value[list(file_upload.value.keys())[0]]\n",
    "                file_name = uploaded_file['metadata']['name']\n",
    "                file_content = uploaded_file['content']\n",
    "\n",
    "                # Store the uploaded file content\n",
    "                uploaded_file_content = (file_name, io.BytesIO(file_content))\n",
    "                print(f\"File '{file_name}' uploaded successfully.\")\n",
    "                \n",
    "            except Exception as e:\n",
    "                print(f\"Error during file upload: {e}\")\n",
    "\n",
    "# Attach handler to the file upload widget\n",
    "file_upload.observe(on_upload_change, names='value')\n",
    "\n",
    "# Function to handle prediction requests\n",
    "def predict_model(endpoint):\n",
    "    global uploaded_file_content\n",
    "    with output:\n",
    "        output.clear_output()\n",
    "        if not uploaded_file_content:\n",
    "            print(\"No file uploaded. Please upload an audio file first.\")\n",
    "            return\n",
    "        try:\n",
    "            response = requests.post(\n",
    "                endpoint,\n",
    "                files={\"file\": uploaded_file_content}\n",
    "            )\n",
    "            response.raise_for_status()\n",
    "            \n",
    "            response_json = response.json()\n",
    "            predicted_genre = response_json.get('predicted_genre')\n",
    "            confidence = response_json.get('confidence')\n",
    "\n",
    "            if predicted_genre and confidence is not None:\n",
    "                print(f\"Predicted Genre: {predicted_genre}, Confidence: {confidence:.2f}\")\n",
    "            else:\n",
    "                print(\"Error: Missing 'predicted_genre' or 'confidence' in the response.\")\n",
    "        except requests.exceptions.RequestException as e:\n",
    "            print(f\"Error during request to FastAPI: {e}\")\n",
    "\n",
    "# Button click event handlers\n",
    "def on_click_mlp_overfitted(b):\n",
    "    predict_model(\"http://localhost:8000/predict_overfitted_mlp\")\n",
    "\n",
    "def on_click_mlp_no_overfit(b):\n",
    "    predict_model(\"http://localhost:8000/predict_mlp_no_overfit\")\n",
    "\n",
    "def on_click_cnn(b):\n",
    "    predict_model(\"http://localhost:8000/predict_cnn\")\n",
    "\n",
    "# Attach handlers to the buttons\n",
    "button_mlp_overfitted.on_click(on_click_mlp_overfitted)\n",
    "button_mlp_no_overfit.on_click(on_click_mlp_no_overfit)\n",
    "button_cnn.on_click(on_click_cnn)\n",
    "\n",
    "# Display the widgets\n",
    "display(file_upload, button_mlp_overfitted, button_mlp_no_overfit, button_cnn, output)\n"
   ]
  }
 ],
 "metadata": {
  "kernelspec": {
   "display_name": "Python 3 (ipykernel)",
   "language": "python",
   "name": "python3"
  },
  "language_info": {
   "codemirror_mode": {
    "name": "ipython",
    "version": 3
   },
   "file_extension": ".py",
   "mimetype": "text/x-python",
   "name": "python",
   "nbconvert_exporter": "python",
   "pygments_lexer": "ipython3",
   "version": "3.11.6"
  }
 },
 "nbformat": 4,
 "nbformat_minor": 5
}
