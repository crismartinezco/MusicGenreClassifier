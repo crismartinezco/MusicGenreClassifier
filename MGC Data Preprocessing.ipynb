{
 "cells": [
  {
   "cell_type": "markdown",
   "id": "59d75b12",
   "metadata": {},
   "source": [
    "# PREPARING DATASET FOR ML"
   ]
  },
  {
   "cell_type": "code",
   "execution_count": null,
   "id": "b9528626",
   "metadata": {},
   "outputs": [],
   "source": [
    "import os\n",
    "import librosa\n",
    "import math\n",
    "import json\n",
    "\n",
    "dataset_path = \"path\\\\to\\\\dataset\"\n",
    "json_path = \"path\\\\to\\\\create\\\\json\"\n",
    "\n",
    "sample_rate = 22050\n",
    "duration = 30 # measured in seconds\n",
    "samples_per_track = sample_rate * duration\n",
    "\n",
    "def save_mfcc(dataset_path, json_path, n_mfcc = 13, n_fft = 2048, hop_length = 512, num_segments = 5):\n",
    "    \n",
    "    # dictionary to store data\n",
    "    data = {\n",
    "        \"mapping\" : [],\n",
    "        \"mfcc\" : [], # training data, label\n",
    "        \"labels\" : []  # training data, outputs\n",
    "    }\n",
    "    \n",
    "    num_samples_per_segment = int(samples_per_track / num_segments)\n",
    "    \n",
    "    # for tracks that are a bit shorter\n",
    "    expected_num_mfcc_vectors_per_segment = math.ceil(num_samples_per_segment / hop_length) # math.ceil rounds up\n",
    "    \n",
    "    # loop through all the genres\n",
    "    \n",
    "    # loading and enumerating (indexing) all files in the dataset\n",
    "    for i, (dirpath, dirnames, filenames) in enumerate(os.walk(dataset_path)): \n",
    "        \n",
    "        # ensure that we're not at the root level\n",
    "        if dirpath is not dataset_path:\n",
    "            \n",
    "            # save the semantic label\n",
    "            dirpath_components = dirpath.split(\"/\") # genre/blues => [\"genre\", \"blues\"]\n",
    "            semantic_label = dirpath_components[-1]\n",
    "            data[\"mapping\"].append(semantic_label)\n",
    "            print(\"\\n Processing {}\".format(semantic_label)) # to keep track of where we are when running script\n",
    "            \n",
    "            # process files fo a specific genre\n",
    "            for f in filenames: \n",
    "                \n",
    "                # load audio file\n",
    "                file_path = os.path.join(dirpath, f)\n",
    "                signal, sr = librosa.load(file_path, sr = sample_rate)\n",
    "                \n",
    "                # process segments extractng mffcc and storing data\n",
    "                for s in range(num_segments):\n",
    "                    start_sample = num_samples_per_segment * s # s = 0 -> 0\n",
    "                    finish_sample = start_sample + num_samples_per_segment # s = 0 -> num_samples_per_segment\n",
    "                    \n",
    "                    \n",
    "                    mfcc = librosa.feature.mfcc(y = signal[start_sample:finish_sample], # analyze a slice of the signal\n",
    "                                               sr = sr,\n",
    "                                               n_fft = n_fft,\n",
    "                                               n_mfcc = n_mfcc, \n",
    "                                               hop_length = hop_length)\n",
    "                    \n",
    "                    mfcc = mfcc.T\n",
    "                    \n",
    "                    # store mfcc for segments if it has the expected length\n",
    "                    if len(mfcc) == expected_num_mfcc_vectors_per_segment:\n",
    "                        data[\"mfcc\"].append(mfcc.tolist())\n",
    "                        data[\"labels\"].append(i - 1)\n",
    "                        print(\"{}, segment: {}\".format(file_path, s))\n",
    "                \n",
    "    with open(json_path, \"w\") as fp:\n",
    "        json.dump(data, fp, indent = 4)\n",
    "        \n",
    "if __name__ == \"__main__\":\n",
    "    save_mfcc(dataset_path, json_path, num_segments = 10)\n",
    "    \n",
    "            "
   ]
  },
  {
   "cell_type": "markdown",
   "source": [],
   "metadata": {
    "collapsed": false
   },
   "id": "75a4808e68ce1688"
  }
 ],
 "metadata": {
  "kernelspec": {
   "display_name": "Python 3 (ipykernel)",
   "language": "python",
   "name": "python3"
  },
  "language_info": {
   "codemirror_mode": {
    "name": "ipython",
    "version": 3
   },
   "file_extension": ".py",
   "mimetype": "text/x-python",
   "name": "python",
   "nbconvert_exporter": "python",
   "pygments_lexer": "ipython3",
   "version": "3.11.6"
  }
 },
 "nbformat": 4,
 "nbformat_minor": 5
}
